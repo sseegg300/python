{
  "nbformat": 4,
  "nbformat_minor": 0,
  "metadata": {
    "colab": {
      "provenance": [],
      "authorship_tag": "ABX9TyObHFpSMCUOufXizPTZBVDo",
      "include_colab_link": true
    },
    "kernelspec": {
      "name": "python3",
      "display_name": "Python 3"
    },
    "language_info": {
      "name": "python"
    }
  },
  "cells": [
    {
      "cell_type": "markdown",
      "metadata": {
        "id": "view-in-github",
        "colab_type": "text"
      },
      "source": [
        "<a href=\"https://colab.research.google.com/github/sseegg300/python/blob/main/cafe_ceo_if.ipynb\" target=\"_parent\"><img src=\"https://colab.research.google.com/assets/colab-badge.svg\" alt=\"Open In Colab\"/></a>"
      ]
    },
    {
      "cell_type": "code",
      "execution_count": null,
      "metadata": {
        "id": "kLAmw_xQccXi"
      },
      "outputs": [],
      "source": [
        "print('='*50)\n",
        "print(f'''\n",
        "          따뜻한 음료 자판기\n",
        "          1.'아메리카노'         2,000원\n",
        "          2.'유자차'             3,000원\n",
        "          3.'핫초코'             3,500원 ''')\n",
        "print('='*50)\n",
        "\n",
        "print()\n",
        "#변수명: menu_no 메뉴번호, menu_name 메뉴명, menu_price, 주문 잔 수 :count\n",
        "#내야할 전체 금액:total_money\n",
        "\n",
        "menu_no = int(input('드실음료를 선택하세요.번호로 선택하세요. =>>'))\n",
        "if menu_no ==1:\n",
        " menu_name = '아메리카노'\n",
        " menu_price = 2000\n",
        "elif menu_no ==2:\n",
        " menu_name = '유자차'\n",
        " menu_price = 3000\n",
        "else:\n",
        " menu_name = '핫초코'\n",
        " menu_price = 3500\n",
        "\n",
        "count = int(input(f'{menu_name } 몇 잔을 드릴까요> =>>'))\n",
        "\n",
        "total_money = menu_price*count\n",
        "\n",
        "print()\n",
        "print(f'주문하신  총금액은 {total_money:,}원입니다.')"
      ]
    }
  ]
}