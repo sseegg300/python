{
  "nbformat": 4,
  "nbformat_minor": 0,
  "metadata": {
    "colab": {
      "provenance": [],
      "toc_visible": true,
      "authorship_tag": "ABX9TyNoQzQNmGXUJ2UWXCj+5TWw",
      "include_colab_link": true
    },
    "kernelspec": {
      "name": "python3",
      "display_name": "Python 3"
    },
    "language_info": {
      "name": "python"
    }
  },
  "cells": [
    {
      "cell_type": "markdown",
      "metadata": {
        "id": "view-in-github",
        "colab_type": "text"
      },
      "source": [
        "<a href=\"https://colab.research.google.com/github/sseegg300/python/blob/main/%EB%AC%B8%EC%9E%90%EC%97%B4_%EB%A6%AC%EC%8A%A4%ED%8A%B8_%ED%95%A8%EC%88%98.ipynb\" target=\"_parent\"><img src=\"https://colab.research.google.com/assets/colab-badge.svg\" alt=\"Open In Colab\"/></a>"
      ]
    },
    {
      "cell_type": "markdown",
      "source": [
        "# 문자열 함수\n",
        "\n",
        "\n",
        "1. 구분자.join(변수명)\n",
        "```\n",
        "juso = '동서남북이열치열'\n",
        "print('/'.join(juso))\n",
        "print(' '.join(juso))\n",
        "```\n",
        "2. 변수명.count(카운트할 대상)\n",
        "```\n",
        "size = 'X,XXL,M,L,XS,L,L,S,M,XL,XXL,S,S,M,L,M,M,L,X,XXL'\n",
        "print(size.count('M'))\n",
        "```\n",
        "3. 변수명.find(찾을대상)\n",
        "4. 변수명.index(찾을대상)\n",
        "5. 변수명.strip() - 양쪽,왼쪽,오른쪽 공백(or 특정기호,문자) 제거 함수           \n",
        "    lstrip(), rstrip()\n",
        "6. 변수명.upper()  변수명.lower() - 모두 대문자로, 모두 소문자로 변환\n",
        "7. 변수명.replace(a,b) - 대체하기\n",
        "8. 변수명.split(a) - 자르기, 문자열을 공백 또는 구분자로 나누기\n",
        "```\n",
        "data = '2023.10.30'\n",
        "a,b,c=data.split('.')\n",
        "print(f'{a}년 {b}월 {c}일')\n",
        "```\n",
        "9. len(변수명) - 문자열이 길이를 반환"
      ],
      "metadata": {
        "id": "DA-qwsPM5wce"
      }
    },
    {
      "cell_type": "code",
      "execution_count": null,
      "metadata": {
        "colab": {
          "base_uri": "https://localhost:8080/"
        },
        "collapsed": true,
        "id": "I7Jyo1G15ecN",
        "outputId": "abf8357a-0d2b-45cb-f18d-465868853850"
      },
      "outputs": [
        {
          "output_type": "stream",
          "name": "stdout",
          "text": [
            "5\n"
          ]
        }
      ],
      "source": []
    },
    {
      "cell_type": "markdown",
      "source": [
        "# 리스트\n",
        "1. 리스트.append(값) : 리스트에 요소를 마지막 위치에 새로 추가\n",
        "2. 리스트.insert(위치,값)\n",
        "3. 리스트.sort()  리스트.sort(reverse=True)\n",
        "4. 리스트.count(찾을값)\n",
        "5. 리스트.pop()  리스트.pop(위치)\n",
        "   : 리스트 제일 뒤의 항목을 빼내고, 빼낸 항목은\n",
        "삭제,제거할 위치에 있는 요소를 제거\n",
        "6. 리스트.remove(삭제할값)"
      ],
      "metadata": {
        "id": "Qk-gqYJkAElV"
      }
    },
    {
      "cell_type": "markdown",
      "source": [
        "**동아리 회원 관리**\n",
        "    \n",
        "**(미션을 수행하세요)**\n",
        "\n",
        "1. 학생이 2명[ ‘지민’, ‘아이유’ ]인 동아리에 ＇뉴진스＇가 가입을 했다고 가정하고, ＇뉴진스‘\n",
        "    를 리스트 맨 뒤에 추가하고 리스트 모든 요소를 출력하세요.\n",
        "2. 위 리스트에 동명이인인 “지민”이 새로 가입을 했다고 가정하고 요소 “아이유” 뒤에 “지민” 를 추가\n",
        "    하고 리스트 모든 요소를 출력하세요\n",
        "3.  “지민”은 몇 명인지 출력하세요.\n",
        "4.  “아이유”가 동아리 탈퇴함. 리스트에서 “아이유”를 찾아 삭제하고 리스트 모든 요소를 출력하세요.\n",
        "\n",
        "5.    본인의 이름을 리스트 마지막 요소에 추가하고 리스트 모든 요소를 출력하세요.\n",
        "6.    현재 리스트 요소들을 오름차순으로 정렬하여 리스트 모든 요소를 출력하세요.\n",
        "7.   현재 남아 있는 학생 인원수를 출력하세요."
      ],
      "metadata": {
        "id": "mnYUBp7DCc4R"
      }
    },
    {
      "cell_type": "code",
      "source": [],
      "metadata": {
        "id": "dS3CY45qDVlY"
      },
      "execution_count": null,
      "outputs": []
    },
    {
      "cell_type": "markdown",
      "source": [
        "**내가 좋아하는 노래는 몇 개의 단어로 되어 있을까?**\n",
        "\n",
        "song = '''떠나는 길에 네가 내게 말했지\\n\n",
        "너는 바라는 게 너무나 많아\\n\n",
        "잠깐이라도 널 안 바라보면\\n\n",
        "머리에 불이 나버린다니까\\n\n",
        "나는 흐르려는 눈물을 참고\\n\n",
        "하려던 얘길 어렵게 누르고\\n\n",
        "그래, 미안해라는 한 마디로\\n\n",
        "너랑 나눈 날들 마무리했었지\\n\n",
        "달디달고, 달디달고, 달디단, 밤양갱, 밤양갱\\n\n",
        "내가 먹고 싶었던 건, 달디단, 밤양갱, 밤양갱이야\\n\n",
        "떠나는 길에 네가 내게 말했지\\n\n",
        "너는 바라는 게 너무나 많아\\n\n",
        "아냐, 내가 늘 바란 건 하나야\\n\n",
        "한 개뿐이야, 달디단, 밤양갱\\n\n",
        "달디달고, 달디달고, 달디단, 밤양갱, 밤양갱\\n\n",
        "내가 먹고 싶었던 건, 달디단, 밤양갱, 밤양갱이야\\n\n",
        "상다리가 부러지고\\n\n",
        "둘이서 먹다 하나가 쓰러져버려도\\n\n",
        "나라는 사람을 몰랐던 넌\\n\n",
        "떠나가다가 돌아서서 말했지\\n\n",
        "너는 바라는 게 너무나 많아\\n\n",
        "아냐, 내가 늘 바란 건 하나야\\n\n",
        "한 개뿐이야, 달디단, 밤양갱'''\n",
        "\n",
        "#참고사항 : ,(콤마) \\n(줄바꿈) 제거 하기\n",
        " Hint: 공백으로 분류, 중복 없애기"
      ],
      "metadata": {
        "id": "ZIr28nExFFt1"
      }
    },
    {
      "cell_type": "code",
      "source": [],
      "metadata": {
        "id": "sWccHE-4nrS1"
      },
      "execution_count": null,
      "outputs": []
    }
  ]
}