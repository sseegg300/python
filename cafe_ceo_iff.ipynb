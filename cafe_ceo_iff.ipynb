{
  "nbformat": 4,
  "nbformat_minor": 0,
  "metadata": {
    "colab": {
      "provenance": [],
      "include_colab_link": true
    },
    "kernelspec": {
      "name": "python3",
      "display_name": "Python 3"
    },
    "language_info": {
      "name": "python"
    }
  },
  "cells": [
    {
      "cell_type": "markdown",
      "metadata": {
        "id": "view-in-github",
        "colab_type": "text"
      },
      "source": [
        "<a href=\"https://colab.research.google.com/github/sseegg300/python/blob/main/cafe_ceo_iff.ipynb\" target=\"_parent\"><img src=\"https://colab.research.google.com/assets/colab-badge.svg\" alt=\"Open In Colab\"/></a>"
      ]
    },
    {
      "cell_type": "code",
      "execution_count": null,
      "metadata": {
        "colab": {
          "base_uri": "https://localhost:8080/"
        },
        "id": "kLAmw_xQccXi",
        "outputId": "fba81906-ac31-4657-8c3e-e2e4201f092b"
      },
      "outputs": [
        {
          "output_type": "stream",
          "name": "stdout",
          "text": [
            "푸트코너 햄버거집에 오신 것을 환영합니다.\n",
            "=======================================================\n",
            "\n",
            "                     - Menu-\n",
            "\n",
            "               불고기 버거  :  7,000원\n",
            "               새우 버거  :     6,500원\n",
            "               치즈 버거  :     8,000원\n",
            "               \n",
            "               세트 주문시 : 2,000추가\n",
            "               (음료(콜라)와  치즈스틱이 제공됩니다)\n",
            "\n",
            "=======================================================\n",
            "< 주문을 시작하겠습니다.>\n",
            "------------------------------\n"
          ]
        }
      ],
      "source": [
        "menu ='''\n",
        "                     - Menu-\n",
        "\n",
        "               불고기 버거  :  7,000원\n",
        "               새우 버거  :     6,500원\n",
        "               치즈 버거  :     8,000원\n",
        "\n",
        "               세트 주문시 : 2,000추가\n",
        "               (음료(콜라)와  치즈스틱이 제공됩니다)\n",
        "'''\n",
        "\n",
        "\n",
        "\n",
        "\n",
        "\n"
      ]
    },
    {
      "cell_type": "code",
      "source": [
        "order = input('어떤 햄버거를 드시겠습니까? 예)불고기,새우,치즈 >>>>>')\n",
        "count =   int(input(order+' 버거'+' 몇개를 주문하시겠습니까? >>>>>'))\n",
        "combo =  input('세트를 주문하시겠습니까? 예) 예,아니오  >>>>>')\n",
        "\n",
        "price = 0\n",
        "\n",
        "#종류별 단가 구하기(price)\n",
        "\n",
        "\n",
        "\n",
        "\n",
        "#콤보인경우 단가 +2000원\n",
        "\n",
        "\n",
        "\n",
        "#총금액 계산해서 출력하기\n",
        "\n",
        "\n"
      ],
      "metadata": {
        "colab": {
          "base_uri": "https://localhost:8080/"
        },
        "id": "_BVJe0I-dRme",
        "outputId": "a958bc3b-d96a-431c-abe2-bbc68c20dc14"
      },
      "execution_count": null,
      "outputs": [
        {
          "output_type": "stream",
          "name": "stdout",
          "text": [
            "어떤 햄버거를 드시겠습니까? 예)불고기,새우,치즈 >>>>>새우\n",
            "새우 버거 몇개를 주문하시겠습니까? >>>>>100\n",
            "세트를 주문하시겠습니까? 예) 예,아니오  >>>>>예\n",
            "총 금액은 850,000입니다.:\n"
          ]
        }
      ]
    }
  ]
}