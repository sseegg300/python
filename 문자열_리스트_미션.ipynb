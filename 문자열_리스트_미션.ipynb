{
  "nbformat": 4,
  "nbformat_minor": 0,
  "metadata": {
    "colab": {
      "provenance": [],
      "toc_visible": true
    },
    "kernelspec": {
      "name": "python3",
      "display_name": "Python 3"
    },
    "language_info": {
      "name": "python"
    }
  },
  "cells": [
    {
      "cell_type": "markdown",
      "source": [
        "# 문자열 함수\n",
        "\n",
        "\n",
        "1. 구분자.join(변수명)\n",
        "```\n",
        "juso = '동서남북이열치열'\n",
        "print('/'.join(juso))\n",
        "print(' '.join(juso))\n",
        "```\n",
        "2. 변수명.count(카운트할 대상)\n",
        "```\n",
        "size = 'X,XXL,M,L,XS,L,L,S,M,XL,XXL,S,S,M,L,M,M,L,X,XXL'\n",
        "print(size.count('M'))\n",
        "```\n",
        "3. 변수명.find(찾을대상)\n",
        "4. 변수명.index(찾을대상)\n",
        "5. 변수명.strip() - 양쪽,왼쪽,오른쪽 공백(or 특정기호,문자) 제거 함수           \n",
        "    lstrip(), rstrip()\n",
        "6. 변수명.upper()  변수명.lower() - 모두 대문자로, 모두 소문자로 변환\n",
        "7. 변수명.replace(a,b) - 대체하기\n",
        "8. 변수명.split(a) - 자르기, 문자열을 공백 또는 구분자로 나누기```\n",
        "data = '2023.10.30'\n",
        "a,b,c=data.split('.')\n",
        "print(f'{a}년 {b}월 {c}일')```\n",
        "9. len(변수명) - 문자열이 길이를 반환"
      ],
      "metadata": {
        "id": "DA-qwsPM5wce"
      }
    },
    {
      "cell_type": "code",
      "execution_count": 1,
      "metadata": {
        "colab": {
          "base_uri": "https://localhost:8080/"
        },
        "collapsed": true,
        "id": "I7Jyo1G15ecN",
        "outputId": "abf8357a-0d2b-45cb-f18d-465868853850"
      },
      "outputs": [
        {
          "output_type": "stream",
          "name": "stdout",
          "text": [
            "5\n"
          ]
        }
      ],
      "source": []
    },
    {
      "cell_type": "markdown",
      "source": [
        "# 리스트\n",
        "1. 리스트.append(값) : 리스트에 요소를 마지막 위치에 새로 추가\n",
        "2. 리스트.insert(위치,값)\n",
        "3. 리스트.sort()  리스트.sort(reverse=True)\n",
        "4. 리스트.count(찾을값)\n",
        "5. 리스트.pop()  리스트.pop(위치)\n",
        "   : 리스트 제일 뒤의 항목을 빼내고, 빼낸 항목은\n",
        "삭제,제거할 위치에 있는 요소를 제거\n",
        "6. 리스트.remove(삭제할값)"
      ],
      "metadata": {
        "id": "Qk-gqYJkAElV"
      }
    },
    {
      "cell_type": "markdown",
      "source": [
        "**동아리 회원 관리**\n",
        "    \n",
        "**(미션을 수행하세요)**\n",
        "\n",
        "1. 학생이 2명[ ‘지민’, ‘아이유’ ]인 동아리에 ＇뉴진스＇가 가입을 했다고 가정하고, ＇뉴진스‘\n",
        "    를 리스트 맨 뒤에 추가하고 리스트 모든 요소를 출력하세요.\n",
        "2. 위 리스트에 동명이인인 “지민”이 새로 가입을 했다고 가정하고 요소 “아이유” 뒤에 “지민” 를 추가\n",
        "    하고 리스트 모든 요소를 출력하세요\n",
        "3.  “지민”은 몇 명인지 출력하세요.\n",
        "4.  “아이유”가 동아리 탈퇴함. 리스트에서 “아이유”를 찾아 삭제하고 리스트 모든 요소를 출력하세요.\n",
        "\n",
        "5.    본인의 이름을 리스트 마지막 요소에 추가하고 리스트 모든 요소를 출력하세요.\n",
        "6.    현재 리스트 요소들을 오름차순으로 정렬하여 리스트 모든 요소를 출력하세요.\n",
        "7.   현재 남아 있는 학생 인원수를 출력하세요."
      ],
      "metadata": {
        "id": "mnYUBp7DCc4R"
      }
    },
    {
      "cell_type": "code",
      "source": [],
      "metadata": {
        "id": "dS3CY45qDVlY"
      },
      "execution_count": null,
      "outputs": []
    }
  ]
}