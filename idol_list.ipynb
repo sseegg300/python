{
  "nbformat": 4,
  "nbformat_minor": 0,
  "metadata": {
    "colab": {
      "provenance": [],
      "authorship_tag": "ABX9TyPmSMVtd3lA3QrBTPrFO22o",
      "include_colab_link": true
    },
    "kernelspec": {
      "name": "python3",
      "display_name": "Python 3"
    },
    "language_info": {
      "name": "python"
    }
  },
  "cells": [
    {
      "cell_type": "markdown",
      "metadata": {
        "id": "view-in-github",
        "colab_type": "text"
      },
      "source": [
        "<a href=\"https://colab.research.google.com/github/sseegg300/python/blob/main/idol_list.ipynb\" target=\"_parent\"><img src=\"https://colab.research.google.com/assets/colab-badge.svg\" alt=\"Open In Colab\"/></a>"
      ]
    },
    {
      "cell_type": "code",
      "execution_count": null,
      "metadata": {
        "id": "rg7migby59kv"
      },
      "outputs": [],
      "source": [
        "idols = [ '블랙핑크','BTS','뉴진스','세븐틴']\n",
        "\n",
        "singers = [\n",
        "            ['블랙핑크',4,'걸그룹','YG'],\n",
        "            ['BTS',5,'보이그룹','빅히트'],\n",
        "            ['뉴진스',5,'걸그룹','SM']\n",
        "                 ]\n"
      ]
    },
    {
      "cell_type": "code",
      "source": [
        "\n"
      ],
      "metadata": {
        "colab": {
          "base_uri": "https://localhost:8080/"
        },
        "id": "paZgDxby6Izs",
        "outputId": "9bbef992-99fe-4336-fd4b-cabee7aa346f"
      },
      "execution_count": null,
      "outputs": [
        {
          "output_type": "stream",
          "name": "stdout",
          "text": [
            "안녕블랙핑크 만나서 반가워. 블랙핑크 팬이야.\n",
            "안녕BTS 만나서 반가워. BTS 팬이야.\n",
            "안녕뉴진스 만나서 반가워. 뉴진스 팬이야.\n",
            "안녕세븐틴 만나서 반가워. 세븐틴 팬이야.\n"
          ]
        }
      ]
    },
    {
      "cell_type": "code",
      "source": [
        "#singers 리스트에서 아이돌 멤버 총 인원수 구하기\n",
        "\n"
      ],
      "metadata": {
        "id": "D7wL7lyW8IKA"
      },
      "execution_count": null,
      "outputs": []
    }
  ]
}